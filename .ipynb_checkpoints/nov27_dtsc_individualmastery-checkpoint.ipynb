{
 "cells": [
  {
   "cell_type": "markdown",
   "metadata": {
    "cell_id": "65b54d16fd1d4eecb6ba472430402547",
    "deepnote_cell_type": "markdown"
   },
   "source": [
    "# General information about this assignment\n",
    "\n",
    "There are five objectives available in this assignment: C1, C7, C8, C9, C10 \n",
    "\n",
    "You may submit for any of these - just one, just two, all five, any combination.\n",
    "\n",
    "**You may reference course materials for this assignment but you must work on it individually**. You may only ask Dr. B or one of the course TAs for assistance. You should not consult a classmate, friend, family member, pet, acquaintance, enemy, co-worker, etc."
   ]
  },
  {
   "cell_type": "markdown",
   "metadata": {
    "cell_id": "6e72c75bd2a4439db07e20f72fa032f1",
    "deepnote_cell_type": "markdown"
   },
   "source": [
    "# Reattempt for C1: Write a solution for a computational problem as pseudocode\n",
    "\n",
    "1. In the code block below, set C1 equal to `True` if you are submitting an attempt for this objective. \n",
    "    * If you are not submitting an attempt for this objective, you can skip to the other objectives below.\n",
    "1. Enter your solution in the text block that follows."
   ]
  },
  {
   "cell_type": "code",
   "execution_count": null,
   "metadata": {
    "cell_id": "cac3520c9f3b4ec881288367cde19963",
    "deepnote_cell_type": "code"
   },
   "outputs": [],
   "source": [
    "C1 = False"
   ]
  },
  {
   "cell_type": "markdown",
   "metadata": {
    "cell_id": "e28fbfdee06f426a87acc47973538780",
    "deepnote_cell_type": "markdown"
   },
   "source": [
    "**Scenario for C1:** Suppose you are in a room of people (you don't know exactly how many people are there) and you wish to determine if there are any two people in the room who have the same birthday (month and day - does not need to be the same year). Write pseudocode for a solution to this problem. Your output should be \"Yes\" or \"No\" - \"Yes\" means that there are at least two people in the room who have the same birthday; \"No\" means everyone in the room has a different birthday.\n",
    "\n",
    "**Enter your solution below:**\n",
    "\n",
    "```\n",
    "Your solution goes here, in between the weird quotes. \n",
    "You can delete this text but don't delete the quotes, please.\n",
    "```"
   ]
  },
  {
   "cell_type": "markdown",
   "metadata": {
    "cell_id": "de99a1bb9fe743d29e8cd840adc658d7",
    "deepnote_cell_type": "markdown"
   },
   "source": [
    "# C7: Iterate over a sequence to solve a problem\n",
    "\n",
    "1. In the code block below, set C7 equal to `True` if you are submitting an attempt for this objective.\n",
    "    * If you are not submitting an attempt for this objective, you can skip to other objectives below.\n",
    "1. In the same code block below where you set the value for `C7`, write code to solve the problem outlined here:\n",
    "    * Assume you have a list of decimals called `hourly_temps`\n",
    "    * Write Python 3 code, using a loop, to print the values from `hourly_temps` in order, all on the same line, separated by `->`.\n",
    "    * **Example:** If `hourly_temps = [90.5, 92.7, 94.0, 95.2]` then your code should print \n",
    "    `90 -> 92 -> 94 -> 95`\n",
    "    * **Hint:** You can use the optional `end` argument for the print function to add something to the end of a print statement. For example: `print(x, end=\"!!!\")` will print the value of the variable `x` followed by 3 exclamation points.\n",
    "    * **Caution:** Your code should work for any valid list called `hourly_temps` - it should not just be for the example above."
   ]
  },
  {
   "cell_type": "code",
   "execution_count": 3,
   "metadata": {
    "cell_id": "368b550d4f124c119028e9db9fe52e74",
    "deepnote_cell_type": "code",
    "scrolled": true
   },
   "outputs": [
    {
     "name": "stdout",
     "output_type": "stream",
     "text": [
      "90 -> 92 -> 94 -> 95"
     ]
    }
   ],
   "source": [
    "C7 = True\n",
    "\n",
    "# Enter your code for C7 below\n",
    "hourly_temps = [90.5, 92.7, 94.0, 95.2]\n",
    "\n",
    "\n",
    "for i, temp in enumerate(hourly_temps):\n",
    "    print(int(temp), end = ' -> ' if i < len(hourly_temps) - 1 else \"\")"
   ]
  },
  {
   "cell_type": "markdown",
   "metadata": {
    "cell_id": "a99a76b294bd411184bd1b4ba640256e",
    "deepnote_cell_type": "markdown"
   },
   "source": [
    "# C8: Compute statistics for a list of data using Python\n",
    "\n",
    "1. In the code block below, set C8 equal to `True` if you are submitting an attempt for this objective.\n",
    "    * If you are not submitting an attempt for this objective, you can skip to other objectives below.\n",
    "1. In the same code block below where you set the value for `C8`, fill in the lines of code requested, given the scenario outlined here:\n",
    "    * Assume you have an already-defined, non-empty list of float values called `final_exam_scores`\n",
    "    * **Example:** Here is one (of many) possible values for the list: `final_exam_scores = [55, 62, 100, 98.75, 80, 76.5, 85.25]`\n",
    "    * **Caution:** Your code should work for any valid list called `final_exam_scores` - it should not just be for the example above."
   ]
  },
  {
   "cell_type": "code",
   "execution_count": 2,
   "metadata": {
    "cell_id": "1ce586019acc47f6a26b8072f9552ee7",
    "deepnote_cell_type": "code"
   },
   "outputs": [
    {
     "name": "stdout",
     "output_type": "stream",
     "text": [
      "Mean: 79.64285714285714\n",
      "Median: 80\n",
      "Min: 55\n",
      "Max: 100\n"
     ]
    }
   ],
   "source": [
    "C8 = True\n",
    "\n",
    "# Any import statements should go here.\n",
    "from statistics import *\n",
    "\n",
    "final_exam_scores = [55, 62, 100, 98.75, 80, 76.5, 85.25]\n",
    "# Write code to compute the average of the list and store it in the variable final_exam_average\n",
    "print('Mean:', mean(final_exam_scores))\n",
    "\n",
    "# Write the code to compute the median of the list and store it in the variable final_exam_median\n",
    "print('Median:', median(final_exam_scores))\n",
    "\n",
    "# Write the code to find the minimum value of the list and store it in the variable final_exam_min\n",
    "print('Min:', min(final_exam_scores))\n",
    "\n",
    "# Write the code to find the maximum value of the list and store it in the variable final_exam_max\n",
    "print('Max:', max(final_exam_scores))\n"
   ]
  },
  {
   "cell_type": "markdown",
   "metadata": {
    "cell_id": "4f7251795ce246cfa295bf6140546b20",
    "deepnote_cell_type": "markdown"
   },
   "source": [
    "# C9: Read/write data from/to a CSV or plaintext file\n",
    "# C10: Create visualizations using Python for one or more variables in a dataset\n",
    "\n",
    "This URL contains a dataset with the top 1000 movies on IMDB: https://thisimpliesthat.com/imdb_top_1000.csv \n",
    "\n",
    "These are the attributes (columns) in the dataset:\n",
    "* Poster_Link - String signifying the URL of the image that imdb uses for the movie poster \n",
    "* Series_Title - Name of the movie\n",
    "* Released_Year - The year in which the movie was originally released \n",
    "* Certificate - Certificate of the movie (I don't know what this means either...)\n",
    "* Runtime - Runtime of the movie, stored as a string. For example: \"142 min\"\n",
    "* Genre - Comma-separated list of genres for the film \n",
    "* IMDB_Rating - Decimal rating of the movie (out of 10)\n",
    "* Overview - Text description of the movie \n",
    "* Meta_score - Integer rating of the movie (out of 100)\n",
    "* Director - Name of the movie's director \n",
    "* Star1, Star2, Star3, Star4 - Name of the star actors of the movie \n",
    "* No_of_Votes - Number of votes / ratings on IMDB \n",
    "* Gross - Gross box office (money) earned by the movie \n",
    "\n",
    "In the code block below, write code that:\n",
    "1. Loads the dataset.\n",
    "1. Generates a histogram with years on the x-axis, divided by decade (ex: 1970-1979, 1980-1989, 1990-1999, etc), where the height of each bar is the number of movies in the dataset released in that year."
   ]
  },
  {
   "cell_type": "code",
   "execution_count": 34,
   "metadata": {
    "cell_id": "8f80984413a9427598322a03169f4131",
    "deepnote_cell_type": "code"
   },
   "outputs": [
    {
     "data": {
      "image/png": "[encoded data removed]",
      "text/plain": [
       "<Figure size 640x480 with 1 Axes>"
      ]
     },
     "metadata": {},
     "output_type": "display_data"
    }
   ],
   "source": [
    "# Write your code for C9/C10 here\n",
    "import pandas as pd\n",
    "import matplotlib.pyplot as plt\n",
    "\n",
    "data = pd.read_csv('https://thisimpliesthat.com/imdb_top_1000.csv')\n",
    "data['Released_Year'] = pd.to_numeric(data['Released_Year'], errors='coerce')\n",
    "data = data.dropna(subset=['Released_Year'])\n",
    "min_year = int(min(data['Released_Year']) // 10 * 10)\n",
    "max_year = int(max(data['Released_Year']) // 10 * 10 + 10)\n",
    "decades = [decade for decade in range(min_year, max_year, 10)]\n",
    "plt.hist(data['Released_Year'], bins=decades, edgecolor='black')\n",
    "plt.xlabel('Decades')\n",
    "plt.ylabel('Number of Movies')\n",
    "plt.title('Movie Releases by Decade')\n",
    "plt.show()"
   ]
  },
  {
   "cell_type": "markdown",
   "metadata": {
    "created_in_deepnote_cell": true,
    "deepnote_cell_type": "markdown"
   },
   "source": [
    "<a style='text-decoration:none;line-height:16px;display:flex;color:#5B5B62;padding:10px;justify-content:end;' href='https://deepnote.com?utm_source=created-in-deepnote-cell&projectId=d78ebfae-e18d-4630-875c-e5ae89496086' target=\"_blank\">\n",
    "<img alt='Created in deepnote.com' style='display:inline;max-height:16px;margin:0px;margin-right:7.5px;' src='data:image/svg+xml;base64,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' > </img>\n",
    "Created in <span style='font-weight:600;margin-left:4px;'>Deepnote</span></a>"
   ]
  }
 ],
 "metadata": {
  "deepnote": {},
  "deepnote_execution_queue": [],
  "deepnote_notebook_id": "6dbb9c8d3862414e89a592256bac8dc7",
  "kernelspec": {
   "display_name": "Python 3 (ipykernel)",
   "language": "python",
   "name": "python3"
  },
  "language_info": {
   "codemirror_mode": {
    "name": "ipython",
    "version": 3
   },
   "file_extension": ".py",
   "mimetype": "text/x-python",
   "name": "python",
   "nbconvert_exporter": "python",
   "pygments_lexer": "ipython3",
   "version": "3.10.11"
  }
 },
 "nbformat": 4,
 "nbformat_minor": 1
}
